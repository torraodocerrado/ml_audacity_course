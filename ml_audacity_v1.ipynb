{
 "cells": [
  {
   "cell_type": "code",
   "execution_count": 6,
   "metadata": {},
   "outputs": [],
   "source": [
    "# These are all the modules we'll be using later. Make sure you can import them\n",
    "# before proceeding further.\n",
    "import pickle\n",
    "import matplotlib.pyplot as plt\n",
    "from sklearn.linear_model import LogisticRegression\n",
    "from sklearn.metrics import accuracy_score\n",
    "import numpy as np \n",
    "\n",
    "# Config the matplotlib backend as plotting inline in IPython\n",
    "%matplotlib inline"
   ]
  },
  {
   "cell_type": "code",
   "execution_count": 2,
   "metadata": {},
   "outputs": [
    {
     "name": "stdout",
     "output_type": "stream",
     "text": [
      "6\n"
     ]
    }
   ],
   "source": [
    "with open(r\"notMNIST.pickle\", \"rb\") as input_file:\n",
    "    data = pickle.load(input_file)\n",
    "print(len(data))"
   ]
  },
  {
   "cell_type": "markdown",
   "metadata": {},
   "source": [
    "Problem 2"
   ]
  },
  {
   "cell_type": "code",
   "execution_count": 3,
   "metadata": {
    "scrolled": false
   },
   "outputs": [
    {
     "name": "stdout",
     "output_type": "stream",
     "text": [
      "train_dataset\n",
      "200000\n",
      "train_labels\n",
      "200000\n",
      "valid_dataset\n",
      "10000\n",
      "valid_labels\n",
      "10000\n",
      "test_dataset\n",
      "10000\n",
      "test_labels\n",
      "10000\n",
      "2\n"
     ]
    },
    {
     "data": {
      "image/png": "[encoded data removed]",
      "text/plain": [
       "<Figure size 432x288 with 1 Axes>"
      ]
     },
     "metadata": {
      "needs_background": "light"
     },
     "output_type": "display_data"
    }
   ],
   "source": [
    "def show_image(data):\n",
    "    plt.imshow(data)\n",
    "    plt.show()\n",
    "    \n",
    "for key in data:\n",
    "    print(key)\n",
    "    print(len(data[key]))\n",
    "\n",
    "    \n",
    "for i in range(0, 10):\n",
    "    if data['train_labels'][i] == 2:\n",
    "        print(data['train_labels'][i])\n",
    "        show_image(data['train_dataset'][i])\n"
   ]
  },
  {
   "cell_type": "code",
   "execution_count": 17,
   "metadata": {},
   "outputs": [],
   "source": [
    "def sampled_dataset(size_x, size_val):\n",
    "    if size_x > 0:\n",
    "        X = data['train_dataset'][:size_x]\n",
    "        y = data['train_labels'][:size_x]\n",
    "        X_VAL = data['valid_dataset'][:size_val]\n",
    "        y_val = data['valid_labels'][:size_val]\n",
    "    else:\n",
    "        X = data['train_dataset']\n",
    "        y = data['train_labels']\n",
    "        X_VAL = data['valid_dataset']\n",
    "        y_val = data['valid_labels']\n",
    "    print('X.shape', X.shape)\n",
    "\n",
    "    unique, counts = np.unique(y, return_counts=True)\n",
    "    print('y dist')\n",
    "    print(np.asarray((unique, counts)).T)\n",
    "\n",
    "    unique, counts = np.unique(y_val, return_counts=True)\n",
    "    print('y_val dist')\n",
    "    print(np.asarray((unique, counts)).T)\n",
    "   \n",
    "    return X, y, X_VAL, y_val"
   ]
  },
  {
   "cell_type": "code",
   "execution_count": 18,
   "metadata": {
    "scrolled": false
   },
   "outputs": [
    {
     "name": "stdout",
     "output_type": "stream",
     "text": [
      "X.shape (1000, 28, 28)\n",
      "y dist\n",
      "[[  0  88]\n",
      " [  1 101]\n",
      " [  2 102]\n",
      " [  3 101]\n",
      " [  4 105]\n",
      " [  5 109]\n",
      " [  6 104]\n",
      " [  7  88]\n",
      " [  8 108]\n",
      " [  9  94]]\n",
      "y_val dist\n",
      "[[ 0 26]\n",
      " [ 1 32]\n",
      " [ 2 40]\n",
      " [ 3 34]\n",
      " [ 4 32]\n",
      " [ 5 27]\n",
      " [ 6 26]\n",
      " [ 7 43]\n",
      " [ 8 41]\n",
      " [ 9 32]]\n",
      "Accuracy:  0.7567567567567568\n",
      "Predicted: 1, Real: 1\n"
     ]
    },
    {
     "data": {
      "image/png": "[encoded data removed]",
      "text/plain": [
       "<Figure size 432x288 with 1 Axes>"
      ]
     },
     "metadata": {
      "needs_background": "light"
     },
     "output_type": "display_data"
    },
    {
     "name": "stdout",
     "output_type": "stream",
     "text": [
      "Predicted: 9, Real: 9\n"
     ]
    },
    {
     "data": {
      "image/png": "[encoded data removed]",
      "text/plain": [
       "<Figure size 432x288 with 1 Axes>"
      ]
     },
     "metadata": {
      "needs_background": "light"
     },
     "output_type": "display_data"
    },
    {
     "name": "stdout",
     "output_type": "stream",
     "text": [
      "Predicted: 6, Real: 3\n"
     ]
    },
    {
     "data": {
      "image/png": "[encoded data removed]",
      "text/plain": [
       "<Figure size 432x288 with 1 Axes>"
      ]
     },
     "metadata": {
      "needs_background": "light"
     },
     "output_type": "display_data"
    },
    {
     "name": "stdout",
     "output_type": "stream",
     "text": [
      "Predicted: 6, Real: 8\n"
     ]
    },
    {
     "data": {
      "image/png": "[encoded data removed]",
      "text/plain": [
       "<Figure size 432x288 with 1 Axes>"
      ]
     },
     "metadata": {
      "needs_background": "light"
     },
     "output_type": "display_data"
    },
    {
     "name": "stdout",
     "output_type": "stream",
     "text": [
      "Predicted: 3, Real: 9\n"
     ]
    },
    {
     "data": {
      "image/png": "[encoded data removed]",
      "text/plain": [
       "<Figure size 432x288 with 1 Axes>"
      ]
     },
     "metadata": {
      "needs_background": "light"
     },
     "output_type": "display_data"
    },
    {
     "name": "stdout",
     "output_type": "stream",
     "text": [
      "Predicted: 3, Real: 3\n"
     ]
    },
    {
     "data": {
      "image/png": "[encoded data removed]",
      "text/plain": [
       "<Figure size 432x288 with 1 Axes>"
      ]
     },
     "metadata": {
      "needs_background": "light"
     },
     "output_type": "display_data"
    },
    {
     "name": "stdout",
     "output_type": "stream",
     "text": [
      "Predicted: 9, Real: 9\n"
     ]
    },
    {
     "data": {
      "image/png": "[encoded data removed]",
      "text/plain": [
       "<Figure size 432x288 with 1 Axes>"
      ]
     },
     "metadata": {
      "needs_background": "light"
     },
     "output_type": "display_data"
    },
    {
     "name": "stdout",
     "output_type": "stream",
     "text": [
      "Predicted: 7, Real: 7\n"
     ]
    },
    {
     "data": {
      "image/png": "[encoded data removed]",
      "text/plain": [
       "<Figure size 432x288 with 1 Axes>"
      ]
     },
     "metadata": {
      "needs_background": "light"
     },
     "output_type": "display_data"
    },
    {
     "name": "stdout",
     "output_type": "stream",
     "text": [
      "Predicted: 0, Real: 0\n"
     ]
    },
    {
     "data": {
      "image/png": "[encoded data removed]",
      "text/plain": [
       "<Figure size 432x288 with 1 Axes>"
      ]
     },
     "metadata": {
      "needs_background": "light"
     },
     "output_type": "display_data"
    },
    {
     "name": "stdout",
     "output_type": "stream",
     "text": [
      "Predicted: 4, Real: 7\n"
     ]
    },
    {
     "data": {
      "image/png": "[encoded data removed]",
      "text/plain": [
       "<Figure size 432x288 with 1 Axes>"
      ]
     },
     "metadata": {
      "needs_background": "light"
     },
     "output_type": "display_data"
    }
   ],
   "source": [
    "size_x = 1000\n",
    "size_val = int(size_x/3)\n",
    "\n",
    "X, y, X_VAL, y_val = sampled_dataset(size_x, size_val)\n",
    "\n",
    "clf = LogisticRegression(solver='lbfgs', n_jobs=4)\n",
    "clf.fit(X.reshape(X.shape[0],-1), y)\n",
    "\n",
    "y_val_pred = clf.predict(X_VAL.reshape(X_VAL.shape[0],-1))\n",
    "\n",
    "print('Accuracy: ', accuracy_score(y_val, y_val_pred))\n",
    "\n",
    "for i in range(0, 10):\n",
    "    print('Predicted: '+str(y_val_pred[i])+', Real: '+str(y_val[i]))\n",
    "    show_image(X_VAL[i])\n"
   ]
  }
 ],
 "metadata": {
  "kernelspec": {
   "display_name": "Python 3",
   "language": "python",
   "name": "python3"
  }
 },
 "nbformat": 4,
 "nbformat_minor": 2
}
