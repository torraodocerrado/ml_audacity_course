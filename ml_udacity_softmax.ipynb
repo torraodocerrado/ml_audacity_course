{
 "cells": [
  {
   "cell_type": "code",
   "execution_count": 60,
   "metadata": {
    "scrolled": false
   },
   "outputs": [
    {
     "name": "stdout",
     "output_type": "stream",
     "text": [
      "-1.0\n"
     ]
    }
   ],
   "source": [
    "\"\"\"Softmax.\"\"\"\n",
    "from math import e\n",
    "    \n",
    "scores = np.array([1.0, 2.0, 3.0])\n",
    "#scores = np.array([[1, 2, 3, 6], [2, 4, 5, 6], [3, 8, 7, 6]])\n",
    "\n",
    "import numpy as np\n",
    "\n",
    "def softmax(x):\n",
    "    all_sum_e = 0\n",
    "    for i in range(len(x)):   \n",
    "        all_sum_e = all_sum_e + e**x[i]\n",
    "    output = []\n",
    "    for i in range(len(x)):\n",
    "        output.append((e**x[i])/float(all_sum_e))\n",
    "    print(output)\n",
    "    return np.exp(x)/np.sum(np.exp(x), axis=0)\n",
    "\n",
    "#print(softmax(scores))\n",
    "\n",
    "# Plot softmax curves\n",
    "#import matplotlib.pyplot as plt\n",
    "#x = np.arange(-2.0, 6.0, 0.1)\n",
    "#scores = np.vstack([x, np.ones_like(x), 0.2 * np.ones_like(x)])\n",
    "\n",
    "#plt.plot(x, softmax(scores).T, linewidth=2)\n",
    "#plt.show()\n",
    "\n",
    "\n",
    "print((0-128)/128)"
   ]
  }
 ],
 "metadata": {
  "kernelspec": {
   "display_name": "Python 3",
   "language": "python",
   "name": "python3"
  },
  "language_info": {
   "codemirror_mode": {
    "name": "ipython",
    "version": 3
   },
   "file_extension": ".py",
   "mimetype": "text/x-python",
   "name": "python",
   "nbconvert_exporter": "python",
   "pygments_lexer": "ipython3",
   "version": "3.6.5"
  }
 },
 "nbformat": 4,
 "nbformat_minor": 2
}
